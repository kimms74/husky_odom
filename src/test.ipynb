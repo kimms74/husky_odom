{
 "cells": [
  {
   "cell_type": "code",
   "execution_count": 1,
   "metadata": {},
   "outputs": [
    {
     "name": "stdout",
     "output_type": "stream",
     "text": [
      "[[ 0.  1.  0.]\n",
      " [ 1.  0.  0.]\n",
      " [ 0.  0. -1.]]   [[ 0.  1.  0.]\n",
      " [-1.  0.  0.]\n",
      " [ 0.  0.  1.]]\n"
     ]
    }
   ],
   "source": [
    "import numpy as np\n",
    "\n",
    "R_imu_from_husky = np.identity(3)\n",
    "R_imu_from_husky[:,0] = (0,1,0)\n",
    "R_imu_from_husky[:,1] = (1,0,0)\n",
    "R_imu_from_husky[:,2] = (0,0,-1)\n",
    "R_mocap_from_husky = np.identity(3)\n",
    "R_mocap_from_husky[:,0] = (0,-1,0)\n",
    "R_mocap_from_husky[:,1] = (1,0,0)\n",
    "R_mocap_from_husky[:,2] = (0,0,1)\n",
    "\n",
    "print(R_imu_from_husky, \" \", R_mocap_from_husky)"
   ]
  },
  {
   "cell_type": "code",
   "execution_count": 1,
   "metadata": {},
   "outputs": [
    {
     "name": "stdout",
     "output_type": "stream",
     "text": [
      "9.806652266617776\n"
     ]
    }
   ],
   "source": [
    "import math\n",
    "x= 0.00606879\n",
    "y = 0.01241519\n",
    "z = 9.80664253\n",
    "\n",
    "calc = math.sqrt(math.pow(x,2) + math.pow(y,2) + math.pow(z,2))\n",
    "print(calc)"
   ]
  },
  {
   "cell_type": "code",
   "execution_count": 44,
   "metadata": {},
   "outputs": [
    {
     "name": "stdout",
     "output_type": "stream",
     "text": [
      "[[[-9.9969655e-01 -2.4626200e-02  6.1895000e-04]\n",
      "  [-2.4626200e-02  6.1895000e-04  2.4626960e-02]\n",
      "  [ 6.1895000e-04  2.4626960e-02 -9.9969590e-01]]\n",
      "\n",
      " [[ 0.0000000e+00  0.0000000e+00  0.0000000e+00]\n",
      "  [ 0.0000000e+00  0.0000000e+00  0.0000000e+00]\n",
      "  [ 0.0000000e+00  0.0000000e+00  0.0000000e+00]]]\n"
     ]
    }
   ],
   "source": [
    "import numpy as np\n",
    "\n",
    "rot = np.array([-0.99969655,-0.0246262,0.00061895,0.02462696,-0.9996959,0.00126612,0.00058759,0.00128098,0.99999905])\n",
    "Rot = np.zeros((2,3,3))\n",
    "for i in range(3):\n",
    "    Rot[0,i,:] = rot[i:i+3]\n",
    "print(Rot)"
   ]
  },
  {
   "cell_type": "code",
   "execution_count": 8,
   "metadata": {},
   "outputs": [
    {
     "name": "stdout",
     "output_type": "stream",
     "text": [
      "2.061536647380643\n"
     ]
    }
   ],
   "source": [
    "import numpy as np\n",
    "import math\n",
    "\n",
    "error = np.zeros((7,2))\n",
    "error[0,:] = (1.00054211, 0.88122736)\n",
    "error[1,:] = (-1.35823788,  0.43767735)\n",
    "error[2,:] = (-1.57024445,  1.06794798)\n",
    "error[3,:] = (1.65672089, 0.69517758)\n",
    "error[4,:] = (-0.70477557, -3.36006325)\n",
    "error[5,:] = (-1.30259304, -1.12036853)\n",
    "error[6,:] = (0.91891269, 2.66977253)\n",
    "avg_error = 0\n",
    "error_temp = 0\n",
    "for i in range(len(error)):\n",
    "    error_temp = math.sqrt(pow(error[i,0],2)+pow(error[i,1],2))\n",
    "    avg_error = avg_error + error_temp\n",
    "    # print(error_temp)\n",
    "\n",
    "avg_error = avg_error/7\n",
    "\n",
    "print(avg_error)"
   ]
  },
  {
   "cell_type": "code",
   "execution_count": null,
   "metadata": {},
   "outputs": [],
   "source": []
  }
 ],
 "metadata": {
  "interpreter": {
   "hash": "03875100f76b48eb15d4e9c408fc71595d61873d2f9d1626754a77c0a1b7bd27"
  },
  "kernelspec": {
   "display_name": "Python 3.8.12 64-bit ('pytorch': conda)",
   "language": "python",
   "name": "python3"
  },
  "language_info": {
   "codemirror_mode": {
    "name": "ipython",
    "version": 3
   },
   "file_extension": ".py",
   "mimetype": "text/x-python",
   "name": "python",
   "nbconvert_exporter": "python",
   "pygments_lexer": "ipython3",
   "version": "3.8.12"
  },
  "orig_nbformat": 4
 },
 "nbformat": 4,
 "nbformat_minor": 2
}
