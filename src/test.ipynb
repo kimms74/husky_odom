{
 "cells": [
  {
   "cell_type": "code",
   "execution_count": 1,
   "metadata": {},
   "outputs": [
    {
     "name": "stdout",
     "output_type": "stream",
     "text": [
      "[[ 0.  1.  0.]\n",
      " [ 1.  0.  0.]\n",
      " [ 0.  0. -1.]]   [[ 0.  1.  0.]\n",
      " [-1.  0.  0.]\n",
      " [ 0.  0.  1.]]\n"
     ]
    }
   ],
   "source": [
    "import numpy as np\n",
    "\n",
    "R_imu_from_husky = np.identity(3)\n",
    "R_imu_from_husky[:,0] = (0,1,0)\n",
    "R_imu_from_husky[:,1] = (1,0,0)\n",
    "R_imu_from_husky[:,2] = (0,0,-1)\n",
    "R_mocap_from_husky = np.identity(3)\n",
    "R_mocap_from_husky[:,0] = (0,-1,0)\n",
    "R_mocap_from_husky[:,1] = (1,0,0)\n",
    "R_mocap_from_husky[:,2] = (0,0,1)\n",
    "\n",
    "print(R_imu_from_husky, \" \", R_mocap_from_husky)"
   ]
  },
  {
   "cell_type": "code",
   "execution_count": 1,
   "metadata": {},
   "outputs": [
    {
     "name": "stdout",
     "output_type": "stream",
     "text": [
      "9.806652266617776\n"
     ]
    }
   ],
   "source": [
    "import math\n",
    "x= 0.00606879\n",
    "y = 0.01241519\n",
    "z = 9.80664253\n",
    "\n",
    "calc = math.sqrt(math.pow(x,2) + math.pow(y,2) + math.pow(z,2))\n",
    "print(calc)"
   ]
  },
  {
   "cell_type": "code",
   "execution_count": 44,
   "metadata": {},
   "outputs": [
    {
     "name": "stdout",
     "output_type": "stream",
     "text": [
      "[[[-9.9969655e-01 -2.4626200e-02  6.1895000e-04]\n",
      "  [-2.4626200e-02  6.1895000e-04  2.4626960e-02]\n",
      "  [ 6.1895000e-04  2.4626960e-02 -9.9969590e-01]]\n",
      "\n",
      " [[ 0.0000000e+00  0.0000000e+00  0.0000000e+00]\n",
      "  [ 0.0000000e+00  0.0000000e+00  0.0000000e+00]\n",
      "  [ 0.0000000e+00  0.0000000e+00  0.0000000e+00]]]\n"
     ]
    }
   ],
   "source": [
    "import numpy as np\n",
    "\n",
    "rot = np.array([-0.99969655,-0.0246262,0.00061895,0.02462696,-0.9996959,0.00126612,0.00058759,0.00128098,0.99999905])\n",
    "Rot = np.zeros((2,3,3))\n",
    "for i in range(3):\n",
    "    Rot[0,i,:] = rot[i:i+3]\n",
    "print(Rot)"
   ]
  },
  {
   "cell_type": "code",
   "execution_count": 8,
   "metadata": {},
   "outputs": [
    {
     "name": "stdout",
     "output_type": "stream",
     "text": [
      "2.061536647380643\n"
     ]
    }
   ],
   "source": [
    "import numpy as np\n",
    "import math\n",
    "\n",
    "error = np.zeros((7,2))\n",
    "error[0,:] = (1.00054211, 0.88122736)\n",
    "error[1,:] = (-1.35823788,  0.43767735)\n",
    "error[2,:] = (-1.57024445,  1.06794798)\n",
    "error[3,:] = (1.65672089, 0.69517758)\n",
    "error[4,:] = (-0.70477557, -3.36006325)\n",
    "error[5,:] = (-1.30259304, -1.12036853)\n",
    "error[6,:] = (0.91891269, 2.66977253)\n",
    "avg_error = 0\n",
    "error_temp = 0\n",
    "for i in range(len(error)):\n",
    "    error_temp = math.sqrt(pow(error[i,0],2)+pow(error[i,1],2))\n",
    "    avg_error = avg_error + error_temp\n",
    "    # print(error_temp)\n",
    "\n",
    "avg_error = avg_error/7\n",
    "\n",
    "print(avg_error)"
   ]
  },
  {
   "cell_type": "code",
   "execution_count": 1,
   "metadata": {},
   "outputs": [
    {
     "name": "stdout",
     "output_type": "stream",
     "text": [
      "[[0, 0], [0, 10], [0, 20], [0, 30], [0, 40], [0, 50], [0, 60], [0, 70], [0, 80], [0, 90], [1, 0], [1, 10], [1, 20], [1, 30], [1, 40], [1, 50], [1, 60], [1, 70], [1, 80], [1, 90], [2, 0], [2, 10], [2, 20], [2, 30], [2, 40], [2, 50], [2, 60], [2, 70], [2, 80], [2, 90], [3, 0], [3, 10], [3, 20], [3, 30], [3, 40], [3, 50], [3, 60], [3, 70], [3, 80], [3, 90], [4, 0], [4, 10], [4, 20], [4, 30], [4, 40], [4, 50], [4, 60], [4, 70], [4, 80], [4, 90], [5, 0], [5, 10], [5, 20], [5, 30], [5, 40], [5, 50], [5, 60], [5, 70], [5, 80], [5, 90], [6, 0], [6, 10], [6, 20], [6, 30], [6, 40], [6, 50], [6, 60], [6, 70], [6, 80], [6, 90], [7, 0], [7, 10], [7, 20], [7, 30], [7, 40], [7, 50], [7, 60], [7, 70], [7, 80], [7, 90], [8, 0], [8, 10], [8, 20], [8, 30], [8, 40], [8, 50], [8, 60], [8, 70], [8, 80], [8, 90], [9, 0], [9, 10], [9, 20], [9, 30], [9, 40], [9, 50], [9, 60], [9, 70], [9, 80], [9, 90]]\n"
     ]
    }
   ],
   "source": [
    "import numpy as np\n",
    "\n",
    "index_map = []\n",
    "for i in range(10):\n",
    "    index_map += [[i, j] for j in range(0, 100, 10)]\n",
    "print(index_map)"
   ]
  }
 ],
 "metadata": {
  "interpreter": {
   "hash": "03875100f76b48eb15d4e9c408fc71595d61873d2f9d1626754a77c0a1b7bd27"
  },
  "kernelspec": {
   "display_name": "Python 3.8.12 64-bit ('pytorch': conda)",
   "language": "python",
   "name": "python3"
  },
  "language_info": {
   "codemirror_mode": {
    "name": "ipython",
    "version": 3
   },
   "file_extension": ".py",
   "mimetype": "text/x-python",
   "name": "python",
   "nbconvert_exporter": "python",
   "pygments_lexer": "ipython3",
   "version": "3.8.12"
  },
  "orig_nbformat": 4
 },
 "nbformat": 4,
 "nbformat_minor": 2
}
